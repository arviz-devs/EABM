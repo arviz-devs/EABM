{
 "cells": [
  {
   "cell_type": "markdown",
   "metadata": {},
   "source": [
    "# Autocorrelation Diagnostic"
   ]
  },
  {
   "cell_type": "markdown",
   "metadata": {},
   "source": [
    "Autocorrelation plots show an estimate of the independence of a time series signal with itself.  As a diagnostic for Markov Monte Carlo Chains they provides an estimate the independence of each draw from previous draws in the same chain. \n",
    "\n",
    "High auto-correlation does not necessarily imply lack of convergence, only loss of efficiency. The higher the autocorrelation the larger the sample size you will need to get the correct answer, but you can have convergence with high autocorrelation.\n",
    "\n",
    "In fact Markov chain theory guarantees that under certain (mild) conditions you will get to the correct stationary distribution. Unfortunately, this guarantee requires infinite samples. So the trick is to guess when the chain has \"practically reached infinity\" for a given problem. Autocorrelation plots help the practioner make that assessment."
   ]
  },
  {
   "cell_type": "markdown",
   "metadata": {},
   "source": [
    "## Arviz Autocorrelation plots\n",
    "By default ArviZ will generate an autocorrelation plot for each variable and for each chain. The autocorrelation should decrease as the lag increases, which indicates a low level of correlation."
   ]
  },
  {
   "cell_type": "code",
   "execution_count": 1,
   "metadata": {},
   "outputs": [],
   "source": [
    "import arviz as az\n",
    "import numpy as np\n",
    "import matplotlib.pyplot as plt\n",
    "\n",
    "az.style.use('arviz-darkgrid')\n",
    "data = az.load_arviz_data('centered_eight')\n",
    "ax = az.plot_autocorr(data, var_names=\"mu\")"
   ]
  },
  {
   "cell_type": "markdown",
   "metadata": {},
   "source": [
    "## Autocorrelation deriviation\n",
    "Autocorrelation at each lag is defined as"
   ]
  },
  {
   "cell_type": "markdown",
   "metadata": {},
   "source": [
    "$$\\large \\rho_{lag} = \\frac{\\Sigma_{i}^{N-lag} (\\theta_{i} - \\overline{\\theta})(\\theta_{i + lag} - \\overline{\\theta})}\n",
    "{\\Sigma_{i}^{N}(\\theta_{i} - \\overline{\\theta})}$$"
   ]
  },
  {
   "cell_type": "markdown",
   "metadata": {},
   "source": [
    "This formula may be recognized as a special form of Pearson's correlation coefficient, where instead of measuring the correlation between two arbitrary sets, we are instead measuring the correlation of different time slices of the same chain."
   ]
  },
  {
   "cell_type": "markdown",
   "metadata": {},
   "source": [
    "We can manually calculate the autocorrelation using numpy"
   ]
  },
  {
   "cell_type": "code",
   "execution_count": 2,
   "metadata": {},
   "outputs": [
    {
     "data": {
      "text/plain": [
       "[1.0,\n",
       " 0.5678988350930042,\n",
       " 0.42329055833861234,\n",
       " 0.2946733022467791,\n",
       " 0.21681918780266368]"
      ]
     },
     "execution_count": 2,
     "metadata": {},
     "output_type": "execute_result"
    }
   ],
   "source": [
    "chain_0 = data.posterior.sel(chain=0)\n",
    "mu_0 = chain_0[\"mu\"]\n",
    "lag = np.arange(0,100)\n",
    "auto_corr = []\n",
    "\n",
    "for shift in lag:\n",
    "    # Or None is to handle the case of indexing at -0\n",
    "    corr = np.corrcoef(mu_0[:-shift or None],mu_0[shift:])[0,1]\n",
    "    auto_corr.append(corr)\n",
    "    \n",
    "auto_corr[:5]"
   ]
  },
  {
   "cell_type": "code",
   "execution_count": 3,
   "metadata": {},
   "outputs": [
    {
     "data": {
      "text/plain": [
       "Text(0.5, 0.98, 'Autocorrelation of Mu Chain 0')"
      ]
     },
     "execution_count": 3,
     "metadata": {},
     "output_type": "execute_result"
    },
    {
     "data": {
      "image/png": "[encoded data removed]",
      "text/plain": [
       "<Figure size 864x432 with 1 Axes>"
      ]
     },
     "metadata": {
      "needs_background": "light"
     },
     "output_type": "display_data"
    }
   ],
   "source": [
    "fig, ax = plt.subplots(figsize=(12,6))\n",
    "ax.vlines(x=np.arange(1, 100),\n",
    "                  ymin=0, ymax=auto_corr,\n",
    "                  lw=1)\n",
    "fig.suptitle(\"Autocorrelation of Mu Chain 0\")"
   ]
  },
  {
   "cell_type": "code",
   "execution_count": 4,
   "metadata": {},
   "outputs": [
    {
     "data": {
      "text/plain": [
       "Text(0.5, 1.0, 'Autocorrelation of Mu Chain 0')"
      ]
     },
     "execution_count": 4,
     "metadata": {},
     "output_type": "execute_result"
    },
    {
     "data": {
      "image/png": "[encoded data removed]",
      "text/plain": [
       "<Figure size 864x432 with 1 Axes>"
      ]
     },
     "metadata": {
      "needs_background": "light"
     },
     "output_type": "display_data"
    }
   ],
   "source": [
    "# Filter to just one chain\n",
    "axes = az.plot_autocorr(chain_0, var_names=\"mu\", figsize=(12,6))\n",
    "axes[0][0].set_title(\"Autocorrelation of Mu Chain 0\")"
   ]
  },
  {
   "cell_type": "markdown",
   "metadata": {},
   "source": [
    "Note that this plot is identical to chain 0 for `mu` in the posterior data"
   ]
  },
  {
   "cell_type": "markdown",
   "metadata": {},
   "source": [
    "## Additional examples"
   ]
  },
  {
   "cell_type": "markdown",
   "metadata": {},
   "source": [
    "MCMC chains with high autocorrelation can indicate that a lack of convergence to a stationary distribution. Take the following example where we try and use PyMC3 estimate the parameters of a generated distribution."
   ]
  },
  {
   "cell_type": "code",
   "execution_count": 5,
   "metadata": {},
   "outputs": [
    {
     "name": "stderr",
     "output_type": "stream",
     "text": [
      "WARNING (theano.configdefaults): install mkl with `conda install mkl-service`: No module named 'mkl'\n"
     ]
    }
   ],
   "source": [
    "import pymc3 as pm\n",
    "\n",
    "# Generate observed distribution with fixed parameters\n",
    "SD = 2\n",
    "MU = -5\n",
    "obs = np.random.normal(loc=MU, scale=SD, size=10000)"
   ]
  },
  {
   "cell_type": "code",
   "execution_count": 6,
   "metadata": {},
   "outputs": [
    {
     "name": "stderr",
     "output_type": "stream",
     "text": [
      "Only 100 samples in chain.\n",
      "Multiprocess sampling (2 chains in 2 jobs)\n",
      "Metropolis: [mu]\n",
      "Sampling 2 chains: 100%|██████████| 1200/1200 [00:00<00:00, 3583.12draws/s]\n",
      "The gelman-rubin statistic is larger than 1.05 for some parameters. This indicates slight problems during sampling.\n",
      "The number of effective samples is smaller than 10% for some parameters.\n"
     ]
    }
   ],
   "source": [
    "# Attempt to use pymc3 to estimate mean of the distribution\n",
    "with pm.Model() as model:\n",
    "    mu = pm.Normal(\"mu\", mu=-5000, sd=1)\n",
    "    y = pm.Normal(\"y\", mu=mu, sd=SD, observed=obs)\n",
    "    step = pm.Metropolis()\n",
    "    trace = pm.sample(100, step, chains=2)"
   ]
  },
  {
   "cell_type": "markdown",
   "metadata": {},
   "source": [
    "In this example`Mu`is the unknown parameter that is being estimated by PyMC3. The model is specified with a prior Normal prior with a mean of -5000, and only 100 steps are taken with a Metropolis Hasting sampler."
   ]
  },
  {
   "cell_type": "code",
   "execution_count": 7,
   "metadata": {},
   "outputs": [
    {
     "data": {
      "image/png": "[encoded data removed]",
      "text/plain": [
       "<Figure size 993.6x331.2 with 2 Axes>"
      ]
     },
     "metadata": {
      "needs_background": "light"
     },
     "output_type": "display_data"
    }
   ],
   "source": [
    "axes = az.plot_autocorr(trace, max_lag=100)"
   ]
  },
  {
   "cell_type": "markdown",
   "metadata": {},
   "source": [
    "When plotting the autocorrelation of the chains however a high degree of correlation is present, indicating that the sampling did not converge to a stationary distribution."
   ]
  },
  {
   "cell_type": "code",
   "execution_count": 8,
   "metadata": {},
   "outputs": [
    {
     "name": "stderr",
     "output_type": "stream",
     "text": [
      "Multiprocess sampling (2 chains in 2 jobs)\n",
      "Metropolis: [mu]\n",
      "Sampling 2 chains: 100%|██████████| 11000/11000 [00:02<00:00, 4402.98draws/s]\n",
      "The number of effective samples is smaller than 25% for some parameters.\n"
     ]
    },
    {
     "data": {
      "image/png": "[encoded data removed]",
      "text/plain": [
       "<Figure size 993.6x331.2 with 2 Axes>"
      ]
     },
     "metadata": {
      "needs_background": "light"
     },
     "output_type": "display_data"
    }
   ],
   "source": [
    "# Attempt to use pymc3 to estimate mean of the distribution\n",
    "with pm.Model() as model:\n",
    "    mu = pm.Uniform(\"mu\")\n",
    "    y = pm.Normal(\"y\", mu=mu, sd=SD, observed=obs)\n",
    "    step = pm.Metropolis()\n",
    "    trace = pm.sample(5000, step, chains=2)\n",
    "    \n",
    "axes = az.plot_autocorr(trace)"
   ]
  },
  {
   "cell_type": "markdown",
   "metadata": {},
   "source": [
    "By reparamatrizing the model, specifically changing the prior and increasing the numbers of draws, a much more desirable autocorrelation plot is obtained, showing a sharper decrease in the magnitude of correlation with long term values centered at roughly 0. "
   ]
  },
  {
   "cell_type": "markdown",
   "metadata": {},
   "source": [
    "## Other strategies for poor autocorrelation\n",
    "Thinning is an additional strategy that has been proposed for working with highly autocorrelated models. Thinning is a method where every only every nth sample from the MCMC chain is preserved, and the rest are ignored. The motivation behind this idea is that the `n` and `n+1` samples in an MCMC chain are more likely to be correlated than samples `n` and `n+10`.\n",
    "\n",
    "However thinning is not a recommended strategy. Kruschke, among other, reccomend against autothinning, reasoning that reparamatrization is more efficient. A link to a full discussion can be found in the references."
   ]
  },
  {
   "cell_type": "markdown",
   "metadata": {},
   "source": [
    "**TODO**\n",
    "Add discussion on effective sample"
   ]
  },
  {
   "cell_type": "markdown",
   "metadata": {},
   "source": [
    "## References\n",
    "[How Autocorrelation Works](https://www.youtube.com/watch?v=ZjaBn93YPWo) - Brandon Rohrer  \n",
    "[Traceplots and autocorrelation](https://www.coursera.org/lecture/mcmc-bayesian-statistics/trace-plots-autocorrelation-oqvff?authMode=login) - Matthew Heiner  \n",
    "[Convergence Diagnostics for Markov Chain Monte Carlo](http://astrostatistics.psu.edu/RLectures/diagnosticsMCMC.pdf) - Eric B Ford  \n",
    "[AutoCorrelation](http://doingbayesiandataanalysis.blogspot.com/2011/11/thinning-to-reduce-autocorrelation.html) - National Institute of Science and Technology  \n",
    "[On thinning of chains in MCMC](https://besjournals.onlinelibrary.wiley.com/doi/full/10.1111/j.2041-210X.2011.00131.x) - William A. Link, Mitchell J. Eaton"
   ]
  }
 ],
 "metadata": {
  "kernelspec": {
   "display_name": "Python 3",
   "language": "python",
   "name": "python3"
  },
  "language_info": {
   "codemirror_mode": {
    "name": "ipython",
    "version": 3
   },
   "file_extension": ".py",
   "mimetype": "text/x-python",
   "name": "python",
   "nbconvert_exporter": "python",
   "pygments_lexer": "ipython3",
   "version": "3.6.6"
  }
 },
 "nbformat": 4,
 "nbformat_minor": 2
}
