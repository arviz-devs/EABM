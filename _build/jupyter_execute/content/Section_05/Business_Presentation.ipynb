{
 "cells": [
  {
   "cell_type": "code",
   "execution_count": 1,
   "metadata": {
    "execution": {
     "iopub.execute_input": "2020-06-26T12:22:19.588817Z",
     "iopub.status.busy": "2020-06-26T12:22:19.587296Z",
     "iopub.status.idle": "2020-06-26T12:22:21.336045Z",
     "shell.execute_reply": "2020-06-26T12:22:21.336370Z"
    }
   },
   "outputs": [],
   "source": [
    "import numpy as np\n",
    "import matplotlib.pyplot as plt\n",
    "from scipy import stats\n",
    "import pymc3 as pm\n",
    "import arviz as az"
   ]
  },
  {
   "cell_type": "markdown",
   "metadata": {},
   "source": [
    "# Preparation of results for business: Newpaper Sales\n",
    "\n",
    "We will illustrate how to prepare results for a business audience using ArviZ. The motivating example we'll use is a classic example in Industrial Engineering, the [newsvendor problem](https://en.wikipedia.org/wiki/Newsvendor_model). In brief the problem is as follows\n",
    "\n",
    "As a newpaper girl, or boy, you face a dilemma; buy too many newspapers and you'll lose money from newspaper that expire. Buy too few newspapers and you'll miss potential sales, and lose money. Using past sales information and ArviZ we can create a compelling data centric pitch about what business choice to make in this scenario\n"
   ]
  },
  {
   "cell_type": "markdown",
   "metadata": {},
   "source": [
    "## Outline\n",
    "\n",
    "* Posterior Estimation\n",
    "* Posterior Predictive"
   ]
  },
  {
   "cell_type": "markdown",
   "metadata": {},
   "source": [
    "### Simulation"
   ]
  },
  {
   "cell_type": "markdown",
   "metadata": {},
   "source": [
    "As we have in past chapters we're going to create some simulated sales data. Our latent (hidden) parameter is 30 sales per a day on average, and we are simulated 20 days of sales. We are using the poisson distribution because we can only sell positive whole numbers of newspapers (e.g. 12, 14,21)"
   ]
  },
  {
   "cell_type": "code",
   "execution_count": 2,
   "metadata": {
    "execution": {
     "iopub.execute_input": "2020-06-26T12:22:21.339551Z",
     "iopub.status.busy": "2020-06-26T12:22:21.339160Z",
     "iopub.status.idle": "2020-06-26T12:22:21.340805Z",
     "shell.execute_reply": "2020-06-26T12:22:21.341134Z"
    }
   },
   "outputs": [],
   "source": [
    "newspaper_sales = stats.poisson.rvs(30, size=20)"
   ]
  },
  {
   "cell_type": "markdown",
   "metadata": {},
   "source": [
    "### The observed data\n",
    "At the end of 20 days these are the sales numbers we see. Given 20 days of sales you must make a case of how many newspapers to buy in the future."
   ]
  },
  {
   "cell_type": "code",
   "execution_count": 3,
   "metadata": {
    "execution": {
     "iopub.execute_input": "2020-06-26T12:22:21.345176Z",
     "iopub.status.busy": "2020-06-26T12:22:21.344731Z",
     "iopub.status.idle": "2020-06-26T12:22:21.346854Z",
     "shell.execute_reply": "2020-06-26T12:22:21.347167Z"
    }
   },
   "outputs": [
    {
     "data": {
      "text/plain": [
       "array([27, 26, 19, 32, 21, 33, 34, 27, 29, 32, 31, 23, 31, 31, 24, 39, 33,\n",
       "       25, 27, 27])"
      ]
     },
     "execution_count": 3,
     "metadata": {},
     "output_type": "execute_result"
    }
   ],
   "source": [
    "newspaper_sales"
   ]
  },
  {
   "cell_type": "markdown",
   "metadata": {},
   "source": [
    "## Fitting the data\n",
    "Before any results can be prepared we must first fit a model and generate some results"
   ]
  },
  {
   "cell_type": "code",
   "execution_count": 4,
   "metadata": {
    "execution": {
     "iopub.execute_input": "2020-06-26T12:22:21.351539Z",
     "iopub.status.busy": "2020-06-26T12:22:21.351127Z",
     "iopub.status.idle": "2020-06-26T12:22:30.493946Z",
     "shell.execute_reply": "2020-06-26T12:22:30.494259Z"
    }
   },
   "outputs": [
    {
     "name": "stderr",
     "output_type": "stream",
     "text": [
      "Auto-assigning NUTS sampler...\n"
     ]
    },
    {
     "name": "stderr",
     "output_type": "stream",
     "text": [
      "Initializing NUTS using jitter+adapt_diag...\n"
     ]
    },
    {
     "name": "stderr",
     "output_type": "stream",
     "text": [
      "Multiprocess sampling (2 chains in 2 jobs)\n"
     ]
    },
    {
     "name": "stderr",
     "output_type": "stream",
     "text": [
      "NUTS: [λ]\n"
     ]
    },
    {
     "data": {
      "text/html": [
       "\n",
       "<div>\n",
       "    <style>\n",
       "        /* Turns off some styling */\n",
       "        progress {\n",
       "            /* gets rid of default border in Firefox and Opera. */\n",
       "            border: none;\n",
       "            /* Needs to be in here for Safari polyfill so background images work as expected. */\n",
       "            background-size: auto;\n",
       "        }\n",
       "        .progress-bar-interrupted, .progress-bar-interrupted::-webkit-progress-bar {\n",
       "            background: #F44336;\n",
       "        }\n",
       "    </style>\n",
       "  <progress value='6000' class='' max='6000', style='width:300px; height:20px; vertical-align: middle;'></progress>\n",
       "  100.00% [6000/6000 00:01<00:00 Sampling 2 chains, 0 divergences]\n",
       "</div>\n"
      ],
      "text/plain": [
       "<IPython.core.display.HTML object>"
      ]
     },
     "metadata": {},
     "output_type": "display_data"
    },
    {
     "name": "stderr",
     "output_type": "stream",
     "text": [
      "Sampling 2 chains for 1_000 tune and 2_000 draw iterations (2_000 + 4_000 draws total) took 2 seconds.\n"
     ]
    },
    {
     "data": {
      "text/html": [
       "\n",
       "<div>\n",
       "    <style>\n",
       "        /* Turns off some styling */\n",
       "        progress {\n",
       "            /* gets rid of default border in Firefox and Opera. */\n",
       "            border: none;\n",
       "            /* Needs to be in here for Safari polyfill so background images work as expected. */\n",
       "            background-size: auto;\n",
       "        }\n",
       "        .progress-bar-interrupted, .progress-bar-interrupted::-webkit-progress-bar {\n",
       "            background: #F44336;\n",
       "        }\n",
       "    </style>\n",
       "  <progress value='4000' class='' max='4000', style='width:300px; height:20px; vertical-align: middle;'></progress>\n",
       "  100.00% [4000/4000 00:01<00:00]\n",
       "</div>\n"
      ],
      "text/plain": [
       "<IPython.core.display.HTML object>"
      ]
     },
     "metadata": {},
     "output_type": "display_data"
    },
    {
     "name": "stderr",
     "output_type": "stream",
     "text": [
      "/home/osvaldo/proyectos/00_BM/arviz/arviz/data/io_pymc3.py:89: FutureWarning: Using `from_pymc3` without the model will be deprecated in a future release. Not using the model will return less accurate and less useful results. Make sure you use the model argument or call from_pymc3 within a model context.\n",
      "  FutureWarning,\n"
     ]
    }
   ],
   "source": [
    "with pm.Model() as newspaper_model:\n",
    "    _lambda = pm.Normal(\"λ\", newspaper_sales.mean(), 10)\n",
    "    \n",
    "    sales = pm.Poisson(\"sales\", _lambda, observed=newspaper_sales)\n",
    "    trace = pm.sample(draws=2000)\n",
    "    ppc = pm.sample_posterior_predictive(trace)\n",
    "    \n",
    "data = az.from_pymc3(trace=trace, posterior_predictive=ppc)"
   ]
  },
  {
   "cell_type": "markdown",
   "metadata": {},
   "source": [
    "## Preparation of results\n",
    "Using ArviZ there are numerous ways we can share the results depending on audience. The three will we cover are a numerical Summary with `az.summary`, posterior parameter estimation using `az.plot_posterior`, and posterior predictive visualization using `az.ppc_plot`"
   ]
  },
  {
   "cell_type": "markdown",
   "metadata": {},
   "source": [
    "### Numerical Summary of estimated parameters using az.summary\n",
    "The simplest way to share the result is using the numerical summuraization in az.summary"
   ]
  },
  {
   "cell_type": "code",
   "execution_count": 5,
   "metadata": {
    "execution": {
     "iopub.execute_input": "2020-06-26T12:22:30.497309Z",
     "iopub.status.busy": "2020-06-26T12:22:30.496923Z",
     "iopub.status.idle": "2020-06-26T12:22:30.520577Z",
     "shell.execute_reply": "2020-06-26T12:22:30.520237Z"
    }
   },
   "outputs": [
    {
     "data": {
      "text/html": [
       "<div>\n",
       "<style scoped>\n",
       "    .dataframe tbody tr th:only-of-type {\n",
       "        vertical-align: middle;\n",
       "    }\n",
       "\n",
       "    .dataframe tbody tr th {\n",
       "        vertical-align: top;\n",
       "    }\n",
       "\n",
       "    .dataframe thead th {\n",
       "        text-align: right;\n",
       "    }\n",
       "</style>\n",
       "<table border=\"1\" class=\"dataframe\">\n",
       "  <thead>\n",
       "    <tr style=\"text-align: right;\">\n",
       "      <th></th>\n",
       "      <th>mean</th>\n",
       "      <th>sd</th>\n",
       "      <th>hdi_3%</th>\n",
       "      <th>hdi_97%</th>\n",
       "      <th>mcse_mean</th>\n",
       "      <th>mcse_sd</th>\n",
       "      <th>ess_mean</th>\n",
       "      <th>ess_sd</th>\n",
       "      <th>ess_bulk</th>\n",
       "      <th>ess_tail</th>\n",
       "      <th>r_hat</th>\n",
       "    </tr>\n",
       "  </thead>\n",
       "  <tbody>\n",
       "    <tr>\n",
       "      <th>λ</th>\n",
       "      <td>28.562</td>\n",
       "      <td>1.162</td>\n",
       "      <td>26.437</td>\n",
       "      <td>30.783</td>\n",
       "      <td>0.032</td>\n",
       "      <td>0.023</td>\n",
       "      <td>1310.0</td>\n",
       "      <td>1310.0</td>\n",
       "      <td>1311.0</td>\n",
       "      <td>2612.0</td>\n",
       "      <td>1.0</td>\n",
       "    </tr>\n",
       "  </tbody>\n",
       "</table>\n",
       "</div>"
      ],
      "text/plain": [
       "     mean     sd  hdi_3%  hdi_97%  mcse_mean  mcse_sd  ess_mean  ess_sd  \\\n",
       "λ  28.562  1.162  26.437   30.783      0.032    0.023    1310.0  1310.0   \n",
       "\n",
       "   ess_bulk  ess_tail  r_hat  \n",
       "λ    1311.0    2612.0    1.0  "
      ]
     },
     "execution_count": 5,
     "metadata": {},
     "output_type": "execute_result"
    }
   ],
   "source": [
    "az.summary(data)"
   ]
  },
  {
   "cell_type": "markdown",
   "metadata": {},
   "source": [
    "Using the above summary we get a couple of useful data points. The mean of the expected number of sales each day is ~30.2 and the standard deviation of sales is ~1.2. The advantages of a numerical summary is the ease of communication and succintness. Often times in business settings you may need to describe results without the aid of computer, or chart. Additionally in most businesses your surrounding colleagues will likely not be statisticians. However most people can intuit around the idea of mean and standard deviation, and providing a mean and sd estimate is quick and is not overwhelming.\n",
    "\n",
    "There are some downsides to numerical summaries. One is that by summarizing to two numbers, a lot of information is \"left on the table\". Additionally in certain contexts when a visualization can be used, it's often much more memorable to show a picture of the parameter estimation than provide two summary statistics. Lastly the mean, standard deviation, and even the hpd estimates, don't characterize all distributions well. For exmaple in our newspaper problem if the distribution was bimodal, perhaps because of weekday sales and weekend sales, none of the numerical estimates would correctly communicate this condition."
   ]
  },
  {
   "cell_type": "markdown",
   "metadata": {},
   "source": [
    "### Visual Summary of estimated paramters using plot_posterior"
   ]
  },
  {
   "cell_type": "code",
   "execution_count": 6,
   "metadata": {
    "execution": {
     "iopub.execute_input": "2020-06-26T12:22:30.524115Z",
     "iopub.status.busy": "2020-06-26T12:22:30.523494Z",
     "iopub.status.idle": "2020-06-26T12:22:30.674963Z",
     "shell.execute_reply": "2020-06-26T12:22:30.675279Z"
    }
   },
   "outputs": [
    {
     "data": {
      "image/png": "[encoded data removed]",
      "text/plain": [
       "<Figure size 432x288 with 1 Axes>"
      ]
     },
     "metadata": {
      "filenames": {
       "image/png": "/home/osvaldo/proyectos/00_BM/arviz_resources/_build/jupyter_execute/content/Section_05/Business_Presentation_15_0.png"
      },
      "needs_background": "light"
     },
     "output_type": "display_data"
    }
   ],
   "source": [
    "az.plot_posterior(data);"
   ]
  },
  {
   "cell_type": "markdown",
   "metadata": {},
   "source": [
    "With plot posterior we get a nice visualization of the parameter estimates, as well as point estimate and the Highest Posterior Density. In contrast to the numerical estimates a posterior plot is much harder to gloss over. Posterior Plots also characterize all, or nearly all, the information inferred about the estimated parameters, including uncertainty and characteristics of the distribution.\n",
    "\n",
    "As with any visualization though this cannot be used outside of a visual presentation format. It can be awkward to describe to non statisticians verbally. Additionally posterior by nature are the estimated distribution of *parameter space*. Many times people that are unfamiliar with Bayesian Statistics will incorrectly assume that the x axis is in the units of data, in this case newspaper sales. This intrepratation can lead to incorrect results, as colleagues may assume that \"there is a 94% chance that 28 to 31 newspapers will be sold in a day\" and are in for a surprise when on many occassions more or less papers are sold."
   ]
  },
  {
   "cell_type": "markdown",
   "metadata": {},
   "source": [
    "### Visual Summary of estimated sales using Posterior Predictive Plot"
   ]
  },
  {
   "cell_type": "code",
   "execution_count": 7,
   "metadata": {
    "execution": {
     "iopub.execute_input": "2020-06-26T12:22:30.677466Z",
     "iopub.status.busy": "2020-06-26T12:22:30.676853Z",
     "iopub.status.idle": "2020-06-26T12:22:31.066319Z",
     "shell.execute_reply": "2020-06-26T12:22:31.066732Z"
    }
   },
   "outputs": [
    {
     "data": {
      "image/png": "[encoded data removed]",
      "text/plain": [
       "<Figure size 432x288 with 1 Axes>"
      ]
     },
     "metadata": {
      "filenames": {
       "image/png": "/home/osvaldo/proyectos/00_BM/arviz_resources/_build/jupyter_execute/content/Section_05/Business_Presentation_18_0.png"
      },
      "needs_background": "light"
     },
     "output_type": "display_data"
    }
   ],
   "source": [
    "az.plot_ppc(data, num_pp_samples=100);"
   ]
  },
  {
   "cell_type": "markdown",
   "metadata": {},
   "source": [
    "With plot_ppc we get a plot of the observed data along with the simulated outcomes from the parameter estimations. Benefits if the Posterior Predictive plot are the same as the posterior plot, but with the notable change that the x axis is in the units of the data. Posterior Predictive Plots then lend themselves to the correct interpretation that \"15 to 40 newspapers will be sold a day, and lesser likely that 10 or 45 will be sold\"\n",
    "\n",
    "The downside to the posterior plot is that if asked to explained how they are generated it's not typically a straightforward exercise. From personal experience if trying to explain that you fit parameters using Bayesian Statistics to estimate the posterior, then generated \"1000\", or any arbitrary number, of future simulations, then took the KDE of them, most colleagues lose interest quickly."
   ]
  },
  {
   "cell_type": "markdown",
   "metadata": {},
   "source": [
    "## Practical Advice for using ArviZ in business settings\n",
    "As a statistician in the workplace your job is to help others make good decisions using data. This naturally requires your analysis to be rigorous and thorough, but also requires you to present it in a way that others will take heed to the results. If your boss  becomes bored with the details of Posterior Plots and subsequently fails to understand the conclusion. then your analysis was as ineffective as not running an analysis at all. \n",
    "\n",
    "My advice would be to know your audience. their tolerance for mathematical explanations, and understand the context in which you can explain the data. If you're providing a visual presentation, and have a couple minutes, consider using the Posterior Plot or Posterior Predictive Plot as it lends itself to a longer explanation. If you're given less time consider using the numerical summaries from `az.summary` to quickly convey your results.\n",
    "\n",
    "In either scenario I would suggest memorizing a couple of the numerical summaries, such as mean, median, or HPD, so if an opportunity arises in a \"hallway\" conversation, or during a meeting without a presentation you are able to share results quickly and without a visual aid."
   ]
  }
 ],
 "metadata": {
  "kernelspec": {
   "display_name": "Python 3",
   "language": "python",
   "name": "python3"
  },
  "language_info": {
   "codemirror_mode": {
    "name": "ipython",
    "version": 3
   },
   "file_extension": ".py",
   "mimetype": "text/x-python",
   "name": "python",
   "nbconvert_exporter": "python",
   "pygments_lexer": "ipython3",
   "version": "3.7.6"
  }
 },
 "nbformat": 4,
 "nbformat_minor": 4
}