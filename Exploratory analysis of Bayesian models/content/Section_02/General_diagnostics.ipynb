{
 "cells": [
  {
   "cell_type": "markdown",
   "metadata": {},
   "source": [
    "## Diagnosing the samples from MCMC\n",
    "\n",
    "This section is focused on diagnostic samples obtained from Markov Chain Monte Carlo Methods (MCMC), such as Metropolis or NUTS. While MCMC methods are clever mathematical tricks that let's us compute posteriors, without needing to compute the denominator of Bayes rule, it has trade-offs. Most notably, finite MCMC chains are not guaranteed to converge to the true parameter value. Thus, is important to check whether we have a valid sample, otherwise any analysis from it will be totally flawed. \n",
    "\n",
    "There are several tests we can perform, some are visual and some are quantitative. These tests are designed to spot problems with our samples, but they are unable to prove we have the correct distribution; they can only provide evidence that the sample seems reasonable. If we find problems with the samples, the are many solutions to try:\n",
    "\n",
    "* Increase the number of samples.\n",
    "* Remove a number of samples from the beginning of the trace. This is know as burn-in. The PyMC3 tuning phase helps reduce the need for burn-in.\n",
    "* Modify sampler parameters, such as increasing the length of the tuning phase, or increase the target_accept parameter for the NUTS sampler. Under certain circumstances, PyMC3 will provide suggestions on what to change.\n",
    "* Re-parametrize the model, that is, express the model in a different but equivalent way.\n",
    "* Transform the data."
   ]
  }
 ],
 "metadata": {
  "kernelspec": {
   "display_name": "Python 3",
   "language": "python",
   "name": "python3"
  },
  "language_info": {
   "codemirror_mode": {
    "name": "ipython",
    "version": 3
   },
   "file_extension": ".py",
   "mimetype": "text/x-python",
   "name": "python",
   "nbconvert_exporter": "python",
   "pygments_lexer": "ipython3",
   "version": "3.7.3"
  }
 },
 "nbformat": 4,
 "nbformat_minor": 2
}
