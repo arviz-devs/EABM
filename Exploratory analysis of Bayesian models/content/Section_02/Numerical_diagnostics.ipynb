{
 "cells": [
  {
   "cell_type": "code",
   "execution_count": null,
   "metadata": {},
   "outputs": [],
   "source": [
    "import numpy as np\n",
    "import matplotlib.pyplot as plt\n",
    "from scipy import stats\n",
    "import pymc3 as pm\n",
    "import arviz as az"
   ]
  },
  {
   "cell_type": "markdown",
   "metadata": {},
   "source": [
    "## Numerical Diagnostics\n",
    "\n",
    "We will discuss:\n",
    "\n",
    "* Effective Sampler Size\n",
    "* $\\hat R$\n",
    "* mcse error "
   ]
  },
  {
   "cell_type": "code",
   "execution_count": null,
   "metadata": {},
   "outputs": [],
   "source": [
    "bad_chains = np.linspace(0, 1, 1000).reshape(2, -1)\n",
    "good_chains = stats.uniform.rvs(0, 1,size=(2,500))"
   ]
  },
  {
   "cell_type": "markdown",
   "metadata": {
    "slideshow": {
     "slide_type": "slide"
    }
   },
   "source": [
    "## Effective Sample Size (ess)\n",
    "\n",
    "\n",
    "    az.ess(trace)\n",
    "\n",
    "* Is the sample large enough?\n",
    "\n",
    "* A sample with autocorrelation has less information than a sample of the same size without autocorrelation.\n",
    "\n",
    "* We can estimate the **effective sample size**. i.e. the size of a given sample with the equivalent information but without autocorrelation\n",
    "\n",
    "* We recommend requiring that the rank-normalized ESS is greater than 400"
   ]
  },
  {
   "cell_type": "code",
   "execution_count": 8,
   "metadata": {
    "slideshow": {
     "slide_type": "slide"
    }
   },
   "outputs": [
    {
     "data": {
      "text/plain": [
       "(2.284600376742084, 1032.4518803020005)"
      ]
     },
     "execution_count": 8,
     "metadata": {},
     "output_type": "execute_result"
    }
   ],
   "source": [
    "az.ess(bad_chains), az.ess(good_chains)"
   ]
  },
  {
   "cell_type": "code",
   "execution_count": 9,
   "metadata": {
    "slideshow": {
     "slide_type": "slide"
    }
   },
   "outputs": [
    {
     "data": {
      "text/html": [
       "<div>\n",
       "<style scoped>\n",
       "    .dataframe tbody tr th:only-of-type {\n",
       "        vertical-align: middle;\n",
       "    }\n",
       "\n",
       "    .dataframe tbody tr th {\n",
       "        vertical-align: top;\n",
       "    }\n",
       "\n",
       "    .dataframe thead th {\n",
       "        text-align: right;\n",
       "    }\n",
       "</style>\n",
       "<table border=\"1\" class=\"dataframe\">\n",
       "  <thead>\n",
       "    <tr style=\"text-align: right;\">\n",
       "      <th></th>\n",
       "      <th>mean</th>\n",
       "      <th>sd</th>\n",
       "      <th>hpd_3%</th>\n",
       "      <th>hpd_97%</th>\n",
       "      <th>mcse_mean</th>\n",
       "      <th>mcse_sd</th>\n",
       "      <th>ess_mean</th>\n",
       "      <th>ess_sd</th>\n",
       "      <th>ess_bulk</th>\n",
       "      <th>ess_tail</th>\n",
       "      <th>r_hat</th>\n",
       "    </tr>\n",
       "  </thead>\n",
       "  <tbody>\n",
       "    <tr>\n",
       "      <th>x</th>\n",
       "      <td>0.503</td>\n",
       "      <td>0.292</td>\n",
       "      <td>0.056</td>\n",
       "      <td>0.99</td>\n",
       "      <td>0.009</td>\n",
       "      <td>0.006</td>\n",
       "      <td>1032.0</td>\n",
       "      <td>1032.0</td>\n",
       "      <td>1032.0</td>\n",
       "      <td>986.0</td>\n",
       "      <td>1.0</td>\n",
       "    </tr>\n",
       "  </tbody>\n",
       "</table>\n",
       "</div>"
      ],
      "text/plain": [
       "    mean     sd  hpd_3%  hpd_97%  mcse_mean  mcse_sd  ess_mean  ess_sd  \\\n",
       "x  0.503  0.292   0.056     0.99      0.009    0.006    1032.0  1032.0   \n",
       "\n",
       "   ess_bulk  ess_tail  r_hat  \n",
       "x    1032.0     986.0    1.0  "
      ]
     },
     "execution_count": 9,
     "metadata": {},
     "output_type": "execute_result"
    }
   ],
   "source": [
    "az.summary(good_chains)"
   ]
  },
  {
   "cell_type": "markdown",
   "metadata": {
    "slideshow": {
     "slide_type": "slide"
    }
   },
   "source": [
    "## $\\hat R$ (aka R hat)\n",
    "\n",
    "* Did the chains mix well?\n",
    "\n",
    "* Compares the _between chain_ variance with the _in chain_ variance .\n",
    "\n",
    "* If all the chains have converged, the variance should be similar across all chains, and the pooled sample of all chains.\n",
    "\n",
    "* Ideally it should be 1, numbers  $\\lessapprox 1.01$ are considered safe. \n",
    "\n",
    "* It can be interpreted as the overestimation of variance due to MCMC finite sampling. If you continue sampling infinitely you should get a reduction of the variance of your estimation by a $\\hat R$ factor.\n"
   ]
  },
  {
   "cell_type": "markdown",
   "metadata": {
    "slideshow": {
     "slide_type": "slide"
    }
   },
   "source": [
    "# mcse error \n",
    "\n",
    "\n",
    "* One of the quantities returned by `summary` is the mc_error.\n",
    "\n",
    "* This is an estimation of the error introduced by the sampling method.\n",
    "\n",
    "* The estimation takes into account that the samples are not truly independent of each other.\n",
    "\n",
    "* This error should be below the precision we want in our results"
   ]
  }
 ],
 "metadata": {
  "kernelspec": {
   "display_name": "Python 3",
   "language": "python",
   "name": "python3"
  },
  "language_info": {
   "codemirror_mode": {
    "name": "ipython",
    "version": 3
   },
   "file_extension": ".py",
   "mimetype": "text/x-python",
   "name": "python",
   "nbconvert_exporter": "python",
   "pygments_lexer": "ipython3",
   "version": "3.7.3"
  }
 },
 "nbformat": 4,
 "nbformat_minor": 2
}
