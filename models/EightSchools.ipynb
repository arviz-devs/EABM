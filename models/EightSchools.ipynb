{
 "cells": [
  {
   "cell_type": "markdown",
   "metadata": {},
   "source": [
    "# Eight Schools problem (Alpha)"
   ]
  },
  {
   "cell_type": "markdown",
   "metadata": {},
   "source": [
    "## Cultural background\n",
    "American High School students (typically ages 13-18) typically take a test called the Scholastic Aptitude Test (SAT) which measures their ability math and verbal skills for college admissions. A historical version of the test scored students from ranges 200 to 800. The test is designed to be a \"true\" measure of mental aptitude but a question constantly gets asked whether students can be coached to perform better on the test. If students who who get coached perform better then the test is a poor measure of innate performance, and more so a test of who had access to coaching. This is an important question because it means students with access to greater wealth, who can purchase and attend training courses, could outperform their poorer peers reinforcing an economic gap. \n",
    "\n",
    "## Data Background\n",
    "In experimental terms the question *Does coaching have an effect on SAT Scores?* was the focus of a study by [Alderman Etal](https://journals.sagepub.com/doi/abs/10.3102/00028312017002239). The study was published in 1980, and of particular interest to us is the dataset below.\n"
   ]
  },
  {
   "cell_type": "code",
   "execution_count": 1,
   "metadata": {},
   "outputs": [],
   "source": [
    "eight_schools_data = {\n",
    "        \"J\": 8,\n",
    "        \"y\": [28.0, 8.0, -3.0, 7.0, -1.0, 1.0, 18.0, 12.0],\n",
    "        \"sigma\": [15.0, 10.0, 16.0, 11.0, 9.0, 11.0, 10.0, 18.0],\n",
    "    }"
   ]
  },
  {
   "cell_type": "markdown",
   "metadata": {},
   "source": [
    "In the study the some students wrre given coaching for the SAT Verbal test. The resulting effect on scores was estimated by normal distribution with the parameters __y__ and **sigma**. For example in the first school the estimated effect of coaching is a normal distribution with _28 point mean_ and *15 point standard deviation*. By glancing at the data it's unclear whether coaching has an effect, some schools saw an increase for scores on average, but other saw a decrease. In addition some schools saw an increase on average but the estimated standard deviation of the distribution is so large it's unclear if it was just by chance.\n",
    "\n",
    "#### Arviz Note\n",
    "In the original study the schools were unnamed. However in ArviZ the schools were assigned names from the [Eight Schools Association](https://en.wikipedia.org/wiki/Eight_Schools_Association). While the verbiage *Eight Schools* is the same, the study, and the school association, have no known relation to each other"
   ]
  },
  {
   "cell_type": "markdown",
   "metadata": {},
   "source": [
    "## Bayesian Interest\n",
    "While the dataset is relatively simple, with only 16 data points, estimating the effect of treatment remains subtely challenging. Even after 30 years the problem continues to be referenced in discussions.\n",
    "\n",
    "### Original Paper\n",
    "The original paper is titled *Estimation in Parallel Randomized Experiments* and is written by Donald Rubin in 1981. \n",
    "\n",
    "### Examples of Model Formulation\n",
    "Gelman etal use the Eight Schools data as a motivating example of model formulation (Pooled vs unpooled vs hierarchical) in their textbook *Bayesian Data Analysis*. The example can be found in any edition of the book.\n",
    "\n",
    "### Centered vs Non Centered approach\n",
    "Michael Betancourt uses the eight schools data to showcase how seemingly subtle changes in model definition can adversely affect the efficiency of gradient based samplers. The [original discussion](http://mc-stan.org/users/documentation/case-studies/divergences_and_bias.html) is written using the Stan language. A [PyMC3 port of the discussion](https://docs.pymc.io/notebooks/Diagnosing_biased_Inference_with_Divergences.html) is available as well\n",
    "\n",
    "### Everything I need to know about Bayesian statistics, I learned in Eight Schools\n",
    "One of Andrew Gelman's friends [wrote a non \"mathy\" blog post](https://andrewgelman.com/2014/01/21/everything-need-know-bayesian-statistics-learned-eight-schools/) about how the Eight Schools problem showcases the usefulness of Bayesian methods. The author of this notebook found the discussion interesting because it provides an approachable overview of the motivation of Bayesian methods, even for non technical readers."
   ]
  },
  {
   "cell_type": "markdown",
   "metadata": {},
   "source": [
    "## Eight Schools in ArviZ\n",
    "Completed inference runs come preloaded in ArviZ. The `az.InferenceData` objects can be loaded using the `az.load_arviz_data` method. "
   ]
  },
  {
   "cell_type": "code",
   "execution_count": 5,
   "metadata": {},
   "outputs": [],
   "source": [
    "import arviz as az\n",
    "eight_schools_noncentered = az.load_arviz_data(\"non_centered_eight\")\n",
    "eight_schools_centered = az.load_arviz_data(\"centered_eight\")"
   ]
  },
  {
   "cell_type": "code",
   "execution_count": 13,
   "metadata": {},
   "outputs": [
    {
     "data": {
      "text/plain": [
       "Inference data with groups:\n",
       "\t> posterior\n",
       "\t> sample_stats\n",
       "\t> posterior_predictive\n",
       "\t> prior\n",
       "\t> observed_data"
      ]
     },
     "execution_count": 13,
     "metadata": {},
     "output_type": "execute_result"
    }
   ],
   "source": [
    "eight_schools_centered"
   ]
  }
 ],
 "metadata": {
  "kernelspec": {
   "display_name": "Python 3",
   "language": "python",
   "name": "python3"
  },
  "language_info": {
   "codemirror_mode": {
    "name": "ipython",
    "version": 3
   },
   "file_extension": ".py",
   "mimetype": "text/x-python",
   "name": "python",
   "nbconvert_exporter": "python",
   "pygments_lexer": "ipython3",
   "version": "3.7.1"
  }
 },
 "nbformat": 4,
 "nbformat_minor": 2
}
