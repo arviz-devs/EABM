{
 "cells": [
  {
   "cell_type": "markdown",
   "id": "7805c8d1-2c2a-4021-8206-7f416adbdded",
   "metadata": {},
   "source": [
    "# Budget model\n",
    "\n",
    "An extension on the base model where the attack and defense power has a \"team inherent\" component like in the base model,\n",
    "and a second directly related to the team budget"
   ]
  },
  {
   "cell_type": "code",
   "execution_count": 1,
   "id": "da9d2644-d67b-4a2f-9b43-220daef8f7cd",
   "metadata": {},
   "outputs": [],
   "source": [
    "import numpy as np\n",
    "import pandas as pd\n",
    "import pymc as pm\n",
    "import pytensor.tensor as pt\n",
    "import xarray as xr"
   ]
  },
  {
   "cell_type": "code",
   "execution_count": 2,
   "id": "28ca371f-eb7d-4fbc-9eea-7fbccaa64564",
   "metadata": {},
   "outputs": [
    {
     "data": {
      "text/html": [
       "<div>\n",
       "<style scoped>\n",
       "    .dataframe tbody tr th:only-of-type {\n",
       "        vertical-align: middle;\n",
       "    }\n",
       "\n",
       "    .dataframe tbody tr th {\n",
       "        vertical-align: top;\n",
       "    }\n",
       "\n",
       "    .dataframe thead th {\n",
       "        text-align: right;\n",
       "    }\n",
       "</style>\n",
       "<table border=\"1\" class=\"dataframe\">\n",
       "  <thead>\n",
       "    <tr style=\"text-align: right;\">\n",
       "      <th></th>\n",
       "      <th>home_team</th>\n",
       "      <th>away_team</th>\n",
       "      <th>home_goals</th>\n",
       "      <th>away_goals</th>\n",
       "    </tr>\n",
       "  </thead>\n",
       "  <tbody>\n",
       "    <tr>\n",
       "      <th>0</th>\n",
       "      <td>Athletic Club</td>\n",
       "      <td>Almería</td>\n",
       "      <td>4</td>\n",
       "      <td>0</td>\n",
       "    </tr>\n",
       "    <tr>\n",
       "      <th>1</th>\n",
       "      <td>Atlético de Madrid</td>\n",
       "      <td>Almería</td>\n",
       "      <td>2</td>\n",
       "      <td>1</td>\n",
       "    </tr>\n",
       "    <tr>\n",
       "      <th>2</th>\n",
       "      <td>Osasuna</td>\n",
       "      <td>Almería</td>\n",
       "      <td>3</td>\n",
       "      <td>1</td>\n",
       "    </tr>\n",
       "    <tr>\n",
       "      <th>3</th>\n",
       "      <td>Cádiz</td>\n",
       "      <td>Almería</td>\n",
       "      <td>1</td>\n",
       "      <td>1</td>\n",
       "    </tr>\n",
       "    <tr>\n",
       "      <th>4</th>\n",
       "      <td>Elche</td>\n",
       "      <td>Almería</td>\n",
       "      <td>1</td>\n",
       "      <td>1</td>\n",
       "    </tr>\n",
       "    <tr>\n",
       "      <th>...</th>\n",
       "      <td>...</td>\n",
       "      <td>...</td>\n",
       "      <td>...</td>\n",
       "      <td>...</td>\n",
       "    </tr>\n",
       "    <tr>\n",
       "      <th>375</th>\n",
       "      <td>Mallorca</td>\n",
       "      <td>Villarreal</td>\n",
       "      <td>4</td>\n",
       "      <td>2</td>\n",
       "    </tr>\n",
       "    <tr>\n",
       "      <th>376</th>\n",
       "      <td>Real Sociedad</td>\n",
       "      <td>Villarreal</td>\n",
       "      <td>1</td>\n",
       "      <td>0</td>\n",
       "    </tr>\n",
       "    <tr>\n",
       "      <th>377</th>\n",
       "      <td>Sevilla</td>\n",
       "      <td>Villarreal</td>\n",
       "      <td>2</td>\n",
       "      <td>1</td>\n",
       "    </tr>\n",
       "    <tr>\n",
       "      <th>378</th>\n",
       "      <td>Valencia</td>\n",
       "      <td>Villarreal</td>\n",
       "      <td>1</td>\n",
       "      <td>1</td>\n",
       "    </tr>\n",
       "    <tr>\n",
       "      <th>379</th>\n",
       "      <td>Valladolid</td>\n",
       "      <td>Villarreal</td>\n",
       "      <td>0</td>\n",
       "      <td>3</td>\n",
       "    </tr>\n",
       "  </tbody>\n",
       "</table>\n",
       "<p>380 rows × 4 columns</p>\n",
       "</div>"
      ],
      "text/plain": [
       "              home_team   away_team  home_goals  away_goals\n",
       "0         Athletic Club     Almería           4           0\n",
       "1    Atlético de Madrid     Almería           2           1\n",
       "2               Osasuna     Almería           3           1\n",
       "3                 Cádiz     Almería           1           1\n",
       "4                 Elche     Almería           1           1\n",
       "..                  ...         ...         ...         ...\n",
       "375            Mallorca  Villarreal           4           2\n",
       "376       Real Sociedad  Villarreal           1           0\n",
       "377             Sevilla  Villarreal           2           1\n",
       "378            Valencia  Villarreal           1           1\n",
       "379          Valladolid  Villarreal           0           3\n",
       "\n",
       "[380 rows x 4 columns]"
      ]
     },
     "execution_count": 2,
     "metadata": {},
     "output_type": "execute_result"
    }
   ],
   "source": [
    "df = pd.read_csv(\"scores_22-23.csv\")\n",
    "home_team_idxs, team_names = pd.factorize(df.home_team, sort=True)\n",
    "away_team_idxs, _ = pd.factorize(df.away_team, sort=True)\n",
    "num_teams = len(team_names)\n",
    "df"
   ]
  },
  {
   "cell_type": "code",
   "execution_count": 3,
   "id": "8810cfa9-56b0-4f58-a2c6-f662cf7d3284",
   "metadata": {},
   "outputs": [],
   "source": [
    "budget_df = pd.read_csv(\"budgets_22-23.csv\").sort_values(\"team\")"
   ]
  },
  {
   "cell_type": "code",
   "execution_count": 4,
   "id": "033668a3-21e0-4bb0-9a11-feb43b9322bb",
   "metadata": {},
   "outputs": [
    {
     "name": "stderr",
     "output_type": "stream",
     "text": [
      "/home/osvaldo/anaconda3/envs/eabm/lib/python3.11/site-packages/pymc/data.py:265: FutureWarning: MutableData is deprecated. All Data variables are now mutable. Use Data instead.\n",
      "  warnings.warn(\n"
     ]
    }
   ],
   "source": [
    "coords = {\"team\": team_names, \"match\": np.arange(len(df))}\n",
    "with pm.Model(coords=coords) as m_budget:\n",
    "    # constant data\n",
    "    home_team = pm.MutableData(\"home_team\", home_team_idxs, dims=\"match\")\n",
    "    away_team = pm.MutableData(\"away_team\", away_team_idxs, dims=\"match\")\n",
    "    budget = pm.MutableData(\"budget\", budget_df[\"budget\"], dims=\"team\")\n",
    "    \n",
    "    # global model parameters\n",
    "    home = pm.Normal('home', mu=0, sigma=5)\n",
    "    sd_att = pm.HalfStudentT('sd_att', nu=3, sigma=2.5)\n",
    "    sd_def = pm.HalfStudentT('sd_def', nu=3, sigma=2.5)\n",
    "    intercept = pm.Normal('intercept', mu=0, sigma=5)\n",
    "    budget_att = pm.Normal(\"budget_att\", mu=0, sigma=5)\n",
    "    budget_def = pm.Normal(\"budget_def\", mu=0, sigma=5)\n",
    "\n",
    "    # team-specific model parameters\n",
    "    atts_star = pm.Normal(\"atts_star\", mu=0, sigma=sd_att, dims=\"team\")\n",
    "    defs_star = pm.Normal(\"defs_star\", mu=0, sigma=sd_def, dims=\"team\")\n",
    "\n",
    "    atts = atts_star - pt.mean(atts_star) + budget_att * pt.log(budget)\n",
    "    defs = defs_star - pt.mean(defs_star) + budget_def * pt.log(budget)\n",
    "    home_theta = pt.exp(intercept + home + atts[home_team] + defs[away_team])\n",
    "    away_theta = pt.exp(intercept + atts[away_team] + defs[home_team])\n",
    "\n",
    "    # likelihood of observed data\n",
    "    home_goals = pm.Poisson('home_goals', mu=home_theta, observed=df.home_goals, dims=\"match\")\n",
    "    away_goals = pm.Poisson('away_goals', mu=away_theta, observed=df.away_goals, dims=\"match\")"
   ]
  },
  {
   "cell_type": "code",
   "execution_count": 5,
   "id": "fff68111-3c44-4a55-a7e5-78f5e3f8a4be",
   "metadata": {},
   "outputs": [
    {
     "name": "stderr",
     "output_type": "stream",
     "text": [
      "Initializing NUTS using jitter+adapt_diag...\n",
      "Multiprocess sampling (4 chains in 4 jobs)\n",
      "NUTS: [home, sd_att, sd_def, intercept, budget_att, budget_def, atts_star, defs_star]\n"
     ]
    },
    {
     "data": {
      "application/vnd.jupyter.widget-view+json": {
       "model_id": "1b6e9e50c68f4e4f988255344f63a07d",
       "version_major": 2,
       "version_minor": 0
      },
      "text/plain": [
       "Output()"
      ]
     },
     "metadata": {},
     "output_type": "display_data"
    },
    {
     "data": {
      "text/html": [
       "<pre style=\"white-space:pre;overflow-x:auto;line-height:normal;font-family:Menlo,'DejaVu Sans Mono',consolas,'Courier New',monospace\"></pre>\n"
      ],
      "text/plain": []
     },
     "metadata": {},
     "output_type": "display_data"
    },
    {
     "name": "stderr",
     "output_type": "stream",
     "text": [
      "Sampling 4 chains for 1_000 tune and 4_000 draw iterations (4_000 + 16_000 draws total) took 50 seconds.\n",
      "There were 1 divergences after tuning. Increase `target_accept` or reparameterize.\n"
     ]
    }
   ],
   "source": [
    "with m_budget:\n",
    "    idata = pm.sample(draws=4000,\n",
    "                      random_seed=1375,\n",
    "                      target_accept=0.9,\n",
    "                      idata_kwargs={\"log_likelihood\":True})"
   ]
  },
  {
   "cell_type": "code",
   "execution_count": 6,
   "id": "5e548048-2ffd-4f66-9773-f887b6e45b27",
   "metadata": {},
   "outputs": [
    {
     "data": {
      "text/plain": [
       "'budget_model.nc'"
      ]
     },
     "execution_count": 6,
     "metadata": {},
     "output_type": "execute_result"
    }
   ],
   "source": [
    "idata.to_netcdf(\"budget_model.nc\")"
   ]
  }
 ],
 "metadata": {
  "kernelspec": {
   "display_name": "eabm",
   "language": "python",
   "name": "python3"
  },
  "language_info": {
   "codemirror_mode": {
    "name": "ipython",
    "version": 3
   },
   "file_extension": ".py",
   "mimetype": "text/x-python",
   "name": "python",
   "nbconvert_exporter": "python",
   "pygments_lexer": "ipython3",
   "version": "3.11.0"
  }
 },
 "nbformat": 4,
 "nbformat_minor": 5
}
